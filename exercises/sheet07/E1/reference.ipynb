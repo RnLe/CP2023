{
 "cells": [
  {
   "cell_type": "code",
   "execution_count": 2,
   "metadata": {},
   "outputs": [
    {
     "name": "stdout",
     "output_type": "stream",
     "text": [
      "[[  3.    -22.383   0.     -0.     -0.      0.     -0.      0.      0.      0.   ]\n",
      " [-22.383 117.832  15.45    0.      0.     -0.      0.     -0.     -0.      0.   ]\n",
      " [  0.     15.45    1.962   1.924   0.      0.     -0.     -0.     -0.      0.   ]\n",
      " [  0.      0.      1.924   5.961  -2.15    0.      0.      0.      0.     -0.   ]\n",
      " [  0.      0.      0.     -2.15    6.026   2.032   0.      0.      0.     -0.   ]\n",
      " [  0.      0.      0.      0.      2.032   6.031   1.881   0.     -0.      0.   ]\n",
      " [  0.      0.      0.      0.      0.      1.881   6.037   1.684   0.     -0.   ]\n",
      " [  0.      0.      0.      0.      0.      0.      1.684   6.043   1.419   0.   ]\n",
      " [  0.      0.      0.      0.      0.      0.      0.      1.419   6.05   -1.033]\n",
      " [  0.      0.      0.      0.      0.      0.      0.      0.     -1.033   6.056]]\n"
     ]
    }
   ],
   "source": [
    "import numpy as np\n",
    "from scipy.linalg import hessenberg\n",
    "\n",
    "matrix_list = [[0,  1,  2,  3,  4,  5,  6,  7,  8,  9],\n",
    "               [1,  3,  3,  4,  5,  6,  7,  8,  9, 10],\n",
    "               [2,  3,  6,  5,  6,  7,  8,  9, 10, 11],\n",
    "               [3,  4,  5,  9,  7,  8,  9, 10, 11, 12],\n",
    "               [4,  5,  6,  7, 12,  9, 10, 11, 12, 13],\n",
    "               [5,  6,  7,  8,  9, 15, 11, 12, 13, 14],\n",
    "               [6,  7,  8,  9, 10, 11, 18, 13, 14, 15],\n",
    "               [7,  8,  9, 10, 11, 12, 13, 21, 15, 16],\n",
    "               [8,  9, 10, 11, 12, 13, 14, 15, 24, 17],\n",
    "               [9, 10, 11, 12, 13, 14, 15, 16, 17, 27]]\n",
    "\n",
    "matrix_numpy = np.array(matrix_list)\n",
    "\n",
    "matrix_numpy = np.array([\n",
    "    [3, 3, 4, 5, 6, 7, 8, 9, 10, 11],\n",
    "    [3, 6, 5, 6, 7, 8, 9, 10, 11, 12],\n",
    "    [4, 5, 9, 7, 8, 9, 10, 11, 12, 13],\n",
    "    [5, 6, 7, 12, 9, 10, 11, 12, 13, 14],\n",
    "    [6, 7, 8, 9, 15, 11, 12, 13, 14, 15],\n",
    "    [7, 8, 9, 10, 11, 18, 13, 14, 15, 16],\n",
    "    [8, 9, 10, 11, 12, 13, 21, 15, 16, 17],\n",
    "    [9, 10, 11, 12, 13, 14, 15, 24, 17, 18],\n",
    "    [10, 11, 12, 13, 14, 15, 16, 17, 27, 19],\n",
    "    [11, 12, 13, 14, 15, 16, 17, 18, 19, 30]\n",
    "])\n",
    "\n",
    "# Konvertiere zu Hessenberg-Form\n",
    "H, _ = hessenberg(matrix_numpy, calc_q=True)\n",
    "\n",
    "np.set_printoptions(precision=3, suppress=True, linewidth=150, threshold=np.inf)\n",
    "\n",
    "print(H)\n"
   ]
  }
 ],
 "metadata": {
  "kernelspec": {
   "display_name": "base",
   "language": "python",
   "name": "python3"
  },
  "language_info": {
   "codemirror_mode": {
    "name": "ipython",
    "version": 3
   },
   "file_extension": ".py",
   "mimetype": "text/x-python",
   "name": "python",
   "nbconvert_exporter": "python",
   "pygments_lexer": "ipython3",
   "version": "3.10.9"
  },
  "orig_nbformat": 4
 },
 "nbformat": 4,
 "nbformat_minor": 2
}
