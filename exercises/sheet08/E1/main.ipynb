{
 "cells": [
  {
   "cell_type": "code",
   "execution_count": null,
   "metadata": {},
   "outputs": [],
   "source": [
    "import numpy as np\n",
    "import pandas as pd\n",
    "import matplotlib.pyplot as plt\n",
    "\n",
    "\n",
    "df = pd.read_csv(\"random_numbers.csv\")\n",
    "\n",
    "fig, axes = plt.subplot_mosaic(\"AB;CD\", figsize=(12, 8))\n",
    "\n",
    "titles = [\"a)\", \"b)\", \"c)\", \"d)\"]\n",
    "for ax, title in zip(axes.values(), titles):\n",
    "    ax.hist(df[title], 10)\n",
    "    ax.set_xlabel(\"Random float\")\n",
    "    ax.set_ylabel(\"Bin count\")\n",
    "    ax.set_title(title)\n",
    "\n",
    "fig.suptitle(\"Histrograms of an LCG\\nwith four different configurations\")\n",
    "\n",
    "fig.tight_layout()\n",
    "fig.savefig(\"histograms.pdf\")"
   ]
  },
  {
   "cell_type": "code",
   "execution_count": null,
   "metadata": {},
   "outputs": [],
   "source": [
    "m = [6075, 256, 2 ** 31, 2 ** 31 - 1]\n",
    "\n",
    "fig, axes = plt.subplot_mosaic(\"AB;CD\", figsize=(12, 8))\n",
    "\n",
    "titles = [\"a)\", \"b)\", \"c)\", \"d)\"]\n",
    "for ax, title, m in zip(axes.values(), titles, m):\n",
    "    m = m if len(df) > m else len(df)\n",
    "    \n",
    "    x_values = []\n",
    "    y_values = []\n",
    "\n",
    "    for n in range(0, m, 2):\n",
    "        x_values.append(df.iloc[n].at[title])\n",
    "        y_values.append(df.iloc[n + 1].at[title])\n",
    "\n",
    "    if (title == \"c)\" or title == \"d)\"):\n",
    "        ax.scatter(x_values, y_values, s=0.7, edgecolors=\"None\")\n",
    "    else:\n",
    "        ax.scatter(x_values, y_values)\n",
    "\n",
    "    ax.set_xlabel(\"$r_n$\")\n",
    "    ax.set_ylabel(\"$r_{n + 1}$\")\n",
    "    ax.set_title(title)\n",
    "\n",
    "fig.suptitle(\"Scatter plot of random number pairs\\nMarsaglia-Effect\")\n",
    "\n",
    "fig.tight_layout()\n",
    "fig.savefig(\"correlation.pdf\")\n",
    "fig.savefig(\"correlation.png\", dpi=300)"
   ]
  },
  {
   "cell_type": "code",
   "execution_count": null,
   "metadata": {},
   "outputs": [],
   "source": [
    "df = pd.read_csv(\"box_muller_numbers.csv\")\n",
    "\n",
    "plt.hist(df[\"Gaussian\"], bins=100)\n",
    "plt.xlabel(\"$x$\")\n",
    "plt.ylabel(\"$N$\")\n",
    "plt.title(\"Box-Muller algorithm, Gaussian distribution\")\n",
    "plt.tight_layout()\n",
    "plt.savefig(\"box_muller.pdf\")\n",
    "plt.savefig(\"box_muller.png\", dpi=300)\n",
    "plt.show()"
   ]
  },
  {
   "cell_type": "code",
   "execution_count": null,
   "metadata": {},
   "outputs": [],
   "source": [
    "df = pd.read_csv(\"central_limit_numbers.csv\")\n",
    "\n",
    "plt.hist(df[\"Gaussian\"], bins=100)\n",
    "plt.xlabel(\"$x$\")\n",
    "plt.ylabel(\"$N$\")\n",
    "plt.title(\"Central limit, Gaussian distribution\")\n",
    "plt.tight_layout()\n",
    "plt.savefig(\"central_limit.pdf\")\n",
    "plt.savefig(\"central_limit.png\", dpi=300)\n",
    "plt.show()"
   ]
  },
  {
   "cell_type": "code",
   "execution_count": null,
   "metadata": {},
   "outputs": [],
   "source": [
    "df = pd.read_csv(\"rejection_sampling_numbers.csv\")\n",
    "\n",
    "x = np.linspace(0, np.pi, 1000)\n",
    "y = np.sin(x) / 2\n",
    "\n",
    "plt.hist(df[\"Rejection\"], bins=100, density=True, label=\"PDF\")\n",
    "plt.plot(x, y, '-', color=\"orange\", label=r\"$p(x) = \\frac{\\sin(x)}{2}$\")\n",
    "plt.xlabel(\"$x$\")\n",
    "plt.ylabel(r\"$p(x) = \\frac{\\sin(x)}{2}$\")\n",
    "plt.legend()\n",
    "plt.title(\"Rejection sampling distribution\")\n",
    "plt.tight_layout()\n",
    "plt.savefig(\"rejection_sampling.pdf\")\n",
    "plt.savefig(\"rejection_sampling.png\", dpi=300)\n",
    "plt.show()"
   ]
  },
  {
   "cell_type": "code",
   "execution_count": null,
   "metadata": {},
   "outputs": [],
   "source": [
    "df = pd.read_csv(\"inversion_sampling_numbers.csv\")\n",
    "\n",
    "x = np.linspace(0, 1, 1000)\n",
    "y = 3 * x**2\n",
    "\n",
    "plt.hist(df[\"Inversion\"], bins=100, density=True, label=\"PDF\")\n",
    "plt.plot(x, y, '-', color=\"orange\", label=r\"$p(x) = 3x^2$\")\n",
    "plt.legend()\n",
    "plt.xlabel(\"$x$\")\n",
    "plt.ylabel(r\"$p(x) = 3x^2$\")\n",
    "plt.title(\"Inversion sampling distribution\")\n",
    "plt.tight_layout()\n",
    "plt.savefig(\"inversion_sampling.pdf\")\n",
    "plt.savefig(\"inversion_sampling.png\", dpi=300)\n",
    "plt.show()"
   ]
  }
 ],
 "metadata": {
  "kernelspec": {
   "display_name": "base",
   "language": "python",
   "name": "python3"
  },
  "language_info": {
   "codemirror_mode": {
    "name": "ipython",
    "version": 3
   },
   "file_extension": ".py",
   "mimetype": "text/x-python",
   "name": "python",
   "nbconvert_exporter": "python",
   "pygments_lexer": "ipython3",
   "version": "3.10.9"
  },
  "orig_nbformat": 4
 },
 "nbformat": 4,
 "nbformat_minor": 2
}
